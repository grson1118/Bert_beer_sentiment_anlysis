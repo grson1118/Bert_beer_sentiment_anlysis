{
 "cells": [
  {
   "cell_type": "markdown",
   "metadata": {},
   "source": [
    "# How to Keyword Extract?"
   ]
  },
  {
   "cell_type": "markdown",
   "metadata": {},
   "source": [
    "### ■ Rapid Keyword Extraction (RAKE) Algorithm in Natural Language Processing"
   ]
  },
  {
   "cell_type": "code",
   "execution_count": 3,
   "metadata": {},
   "outputs": [
    {
     "name": "stdout",
     "output_type": "stream",
     "text": [
      "Collecting rake-nltk\n",
      "  Downloading rake_nltk-1.0.6-py3-none-any.whl (9.1 kB)\n",
      "Requirement already satisfied: nltk<4.0.0,>=3.6.2 in c:\\users\\user\\anaconda3\\envs\\ml_3.10\\lib\\site-packages (from rake-nltk) (3.8.1)\n",
      "Requirement already satisfied: click in c:\\users\\user\\anaconda3\\envs\\ml_3.10\\lib\\site-packages (from nltk<4.0.0,>=3.6.2->rake-nltk) (8.0.4)\n",
      "Requirement already satisfied: joblib in c:\\users\\user\\anaconda3\\envs\\ml_3.10\\lib\\site-packages (from nltk<4.0.0,>=3.6.2->rake-nltk) (1.3.2)\n",
      "Requirement already satisfied: regex>=2021.8.3 in c:\\users\\user\\anaconda3\\envs\\ml_3.10\\lib\\site-packages (from nltk<4.0.0,>=3.6.2->rake-nltk) (2023.8.8)\n",
      "Requirement already satisfied: tqdm in c:\\users\\user\\anaconda3\\envs\\ml_3.10\\lib\\site-packages (from nltk<4.0.0,>=3.6.2->rake-nltk) (4.66.1)\n",
      "Requirement already satisfied: colorama in c:\\users\\user\\anaconda3\\envs\\ml_3.10\\lib\\site-packages (from click->nltk<4.0.0,>=3.6.2->rake-nltk) (0.4.6)\n",
      "Installing collected packages: rake-nltk\n",
      "Successfully installed rake-nltk-1.0.6\n"
     ]
    }
   ],
   "source": [
    "# !pip install rake-nltk"
   ]
  },
  {
   "cell_type": "code",
   "execution_count": 1,
   "metadata": {},
   "outputs": [
    {
     "name": "stdout",
     "output_type": "stream",
     "text": [
      "showing info https://raw.githubusercontent.com/nltk/nltk_data/gh-pages/index.xml\n"
     ]
    },
    {
     "data": {
      "text/plain": [
       "True"
      ]
     },
     "execution_count": 1,
     "metadata": {},
     "output_type": "execute_result"
    }
   ],
   "source": [
    "import nltk\n",
    "nltk.download()"
   ]
  },
  {
   "cell_type": "code",
   "execution_count": 4,
   "metadata": {},
   "outputs": [
    {
     "data": {
      "text/plain": [
       "['think would rather drink', 'piss', 'drinking']"
      ]
     },
     "execution_count": 4,
     "metadata": {},
     "output_type": "execute_result"
    }
   ],
   "source": [
    "from rake_nltk import Rake\n",
    "\n",
    "### COMMON USE\n",
    "# r = Rake()\n",
    "\n",
    "### to control the max or min words in a phrase\n",
    "r = Rake(min_length=1, max_length=4)\n",
    "\n",
    "### To include all phrases only once and ignore the repetitions\n",
    "# r = Rake(include_repeated_phrases=False)\n",
    "\n",
    "text=\"think would rather drink my own piss. Actually would probably drink someone else piss before drinking this again\"\n",
    "\n",
    "r.extract_keywords_from_text(text)\n",
    "r.get_ranked_phrases()"
   ]
  },
  {
   "cell_type": "code",
   "execution_count": 5,
   "metadata": {},
   "outputs": [
    {
     "data": {
      "text/plain": [
       "[(16.0, 'think would rather drink'), (1.0, 'piss'), (1.0, 'drinking')]"
      ]
     },
     "execution_count": 5,
     "metadata": {},
     "output_type": "execute_result"
    }
   ],
   "source": [
    "#SPECIAL CASES\n",
    "r.get_ranked_phrases_with_scores()"
   ]
  },
  {
   "cell_type": "markdown",
   "metadata": {},
   "source": [
    "### ■ Apply RAKE to sample csv file"
   ]
  },
  {
   "cell_type": "code",
   "execution_count": 10,
   "metadata": {},
   "outputs": [
    {
     "data": {
      "text/html": [
       "<div>\n",
       "<style scoped>\n",
       "    .dataframe tbody tr th:only-of-type {\n",
       "        vertical-align: middle;\n",
       "    }\n",
       "\n",
       "    .dataframe tbody tr th {\n",
       "        vertical-align: top;\n",
       "    }\n",
       "\n",
       "    .dataframe thead th {\n",
       "        text-align: right;\n",
       "    }\n",
       "</style>\n",
       "<table border=\"1\" class=\"dataframe\">\n",
       "  <thead>\n",
       "    <tr style=\"text-align: right;\">\n",
       "      <th></th>\n",
       "      <th>Review</th>\n",
       "      <th>Beer_name</th>\n",
       "      <th>MultinomialNB_label</th>\n",
       "    </tr>\n",
       "  </thead>\n",
       "  <tbody>\n",
       "    <tr>\n",
       "      <th>0</th>\n",
       "      <td>surprisingly little taste. it is fresh and a t...</td>\n",
       "      <td>Asahi Super Dry</td>\n",
       "      <td>Positive</td>\n",
       "    </tr>\n",
       "    <tr>\n",
       "      <th>1</th>\n",
       "      <td>pours an almost honey color with an extremely ...</td>\n",
       "      <td>Asahi Super Dry</td>\n",
       "      <td>Positive</td>\n",
       "    </tr>\n",
       "    <tr>\n",
       "      <th>2</th>\n",
       "      <td>smell and taste of maltiness, grass and bread....</td>\n",
       "      <td>Asahi Super Dry</td>\n",
       "      <td>Positive</td>\n",
       "    </tr>\n",
       "    <tr>\n",
       "      <th>3</th>\n",
       "      <td>no redeeming features of this 'beer' other tha...</td>\n",
       "      <td>Asahi Super Dry</td>\n",
       "      <td>Negative</td>\n",
       "    </tr>\n",
       "    <tr>\n",
       "      <th>4</th>\n",
       "      <td>at least, there is no harsh off flavours. what...</td>\n",
       "      <td>Asahi Super Dry</td>\n",
       "      <td>Negative</td>\n",
       "    </tr>\n",
       "    <tr>\n",
       "      <th>...</th>\n",
       "      <td>...</td>\n",
       "      <td>...</td>\n",
       "      <td>...</td>\n",
       "    </tr>\n",
       "    <tr>\n",
       "      <th>2100</th>\n",
       "      <td>shrewd metal piece of work and a aroma. with d...</td>\n",
       "      <td>Asahi Super Dry</td>\n",
       "      <td>Negative</td>\n",
       "    </tr>\n",
       "    <tr>\n",
       "      <th>2101</th>\n",
       "      <td>freak color. it. equal compose canadian molson...</td>\n",
       "      <td>Asahi Super Dry</td>\n",
       "      <td>Negative</td>\n",
       "    </tr>\n",
       "    <tr>\n",
       "      <th>2102</th>\n",
       "      <td>middling japanese beer weak watery. suck</td>\n",
       "      <td>Asahi Super Dry</td>\n",
       "      <td>Negative</td>\n",
       "    </tr>\n",
       "    <tr>\n",
       "      <th>2103</th>\n",
       "      <td>character. only thirsty. designate smell, big ...</td>\n",
       "      <td>Asahi Super Dry</td>\n",
       "      <td>Negative</td>\n",
       "    </tr>\n",
       "    <tr>\n",
       "      <th>2104</th>\n",
       "      <td>possibly not zzzzz wholly more hops. than on. ...</td>\n",
       "      <td>Asahi Super Dry</td>\n",
       "      <td>Negative</td>\n",
       "    </tr>\n",
       "  </tbody>\n",
       "</table>\n",
       "<p>2105 rows × 3 columns</p>\n",
       "</div>"
      ],
      "text/plain": [
       "                                                 Review        Beer_name  \\\n",
       "0     surprisingly little taste. it is fresh and a t...  Asahi Super Dry   \n",
       "1     pours an almost honey color with an extremely ...  Asahi Super Dry   \n",
       "2     smell and taste of maltiness, grass and bread....  Asahi Super Dry   \n",
       "3     no redeeming features of this 'beer' other tha...  Asahi Super Dry   \n",
       "4     at least, there is no harsh off flavours. what...  Asahi Super Dry   \n",
       "...                                                 ...              ...   \n",
       "2100  shrewd metal piece of work and a aroma. with d...  Asahi Super Dry   \n",
       "2101  freak color. it. equal compose canadian molson...  Asahi Super Dry   \n",
       "2102           middling japanese beer weak watery. suck  Asahi Super Dry   \n",
       "2103  character. only thirsty. designate smell, big ...  Asahi Super Dry   \n",
       "2104  possibly not zzzzz wholly more hops. than on. ...  Asahi Super Dry   \n",
       "\n",
       "     MultinomialNB_label  \n",
       "0               Positive  \n",
       "1               Positive  \n",
       "2               Positive  \n",
       "3               Negative  \n",
       "4               Negative  \n",
       "...                  ...  \n",
       "2100            Negative  \n",
       "2101            Negative  \n",
       "2102            Negative  \n",
       "2103            Negative  \n",
       "2104            Negative  \n",
       "\n",
       "[2105 rows x 3 columns]"
      ]
     },
     "execution_count": 10,
     "metadata": {},
     "output_type": "execute_result"
    }
   ],
   "source": [
    "import pandas as pd\n",
    "from rake_nltk import Rake\n",
    "\n",
    "def apply_rake(text):\n",
    "    r = Rake(min_length=1, max_length=4)\n",
    "    r.extract_keywords_from_text(text)\n",
    "    return r.get_ranked_phrases()\n",
    "\n",
    "# assuming the csv file name is 'reviews.csv' and the review column name is 'Review'\n",
    "csv_file = \"../../Data/Preprocessed_data/pp_selected_reviews.csv\"\n",
    "df = pd.read_csv(csv_file)\n",
    "df['Review'] = df['Review'].astype(str)\n",
    "df"
   ]
  },
  {
   "cell_type": "code",
   "execution_count": 11,
   "metadata": {},
   "outputs": [
    {
     "data": {
      "text/html": [
       "<div>\n",
       "<style scoped>\n",
       "    .dataframe tbody tr th:only-of-type {\n",
       "        vertical-align: middle;\n",
       "    }\n",
       "\n",
       "    .dataframe tbody tr th {\n",
       "        vertical-align: top;\n",
       "    }\n",
       "\n",
       "    .dataframe thead th {\n",
       "        text-align: right;\n",
       "    }\n",
       "</style>\n",
       "<table border=\"1\" class=\"dataframe\">\n",
       "  <thead>\n",
       "    <tr style=\"text-align: right;\">\n",
       "      <th></th>\n",
       "      <th>Review</th>\n",
       "      <th>Beer_name</th>\n",
       "      <th>MultinomialNB_label</th>\n",
       "      <th>keywords</th>\n",
       "    </tr>\n",
       "  </thead>\n",
       "  <tbody>\n",
       "    <tr>\n",
       "      <th>364</th>\n",
       "      <td>very clean and simple lager, clear slightly da...</td>\n",
       "      <td>Asahi Super Dry</td>\n",
       "      <td>Positive</td>\n",
       "      <td>[favorite asian restaurant, asahi draft dispen...</td>\n",
       "    </tr>\n",
       "    <tr>\n",
       "      <th>1642</th>\n",
       "      <td>for the co op in davis, ca. pours very dk brow...</td>\n",
       "      <td>8 Wired iStout</td>\n",
       "      <td>Positive</td>\n",
       "      <td>[slight creamy tan head, lightly smoked burnt ...</td>\n",
       "    </tr>\n",
       "    <tr>\n",
       "      <th>2075</th>\n",
       "      <td>feeble carbonation, sweet, metallic. non flat ...</td>\n",
       "      <td>Asahi Super Dry</td>\n",
       "      <td>Negative</td>\n",
       "      <td>[weak though medium, feeble carbonation, sweet...</td>\n",
       "    </tr>\n",
       "    <tr>\n",
       "      <th>479</th>\n",
       "      <td>clear, a bit darker, golden colour with head t...</td>\n",
       "      <td>Asahi Super Dry</td>\n",
       "      <td>Positive</td>\n",
       "      <td>[mostly like earth, moderate bitter aftertaste...</td>\n",
       "    </tr>\n",
       "    <tr>\n",
       "      <th>929</th>\n",
       "      <td>just like the says, dry ,very dry at the finis...</td>\n",
       "      <td>Asahi Super Dry</td>\n",
       "      <td>Positive</td>\n",
       "      <td>[ok beer clean, japenese steakhouse, extra lar...</td>\n",
       "    </tr>\n",
       "    <tr>\n",
       "      <th>1772</th>\n",
       "      <td>angstrom draught daruma austin. bad. of atomic...</td>\n",
       "      <td>Asahi Super Dry</td>\n",
       "      <td>Negative</td>\n",
       "      <td>[angstrom draught daruma austin, light cider, ...</td>\n",
       "    </tr>\n",
       "    <tr>\n",
       "      <th>1417</th>\n",
       "      <td>pitch black in the glass. no head at all. good...</td>\n",
       "      <td>8 Wired iStout</td>\n",
       "      <td>Positive</td>\n",
       "      <td>[good roasted malts, smooth brew, pitch black,...</td>\n",
       "    </tr>\n",
       "    <tr>\n",
       "      <th>30</th>\n",
       "      <td>light and crispy. bitter and sour at the start...</td>\n",
       "      <td>Asahi Super Dry</td>\n",
       "      <td>Negative</td>\n",
       "      <td>[would go well, metallic tang, macro lagers, s...</td>\n",
       "    </tr>\n",
       "    <tr>\n",
       "      <th>915</th>\n",
       "      <td>pale lager which tasted about like i expected....</td>\n",
       "      <td>Asahi Super Dry</td>\n",
       "      <td>Negative</td>\n",
       "      <td>[yellow color, pale lager, average beer, turn,...</td>\n",
       "    </tr>\n",
       "    <tr>\n",
       "      <th>407</th>\n",
       "      <td>. clear gold with a frothy white head. watery,...</td>\n",
       "      <td>Asahi Super Dry</td>\n",
       "      <td>Negative</td>\n",
       "      <td>[would accept one given, little grainand yes, ...</td>\n",
       "    </tr>\n",
       "  </tbody>\n",
       "</table>\n",
       "</div>"
      ],
      "text/plain": [
       "                                                 Review        Beer_name  \\\n",
       "364   very clean and simple lager, clear slightly da...  Asahi Super Dry   \n",
       "1642  for the co op in davis, ca. pours very dk brow...   8 Wired iStout   \n",
       "2075  feeble carbonation, sweet, metallic. non flat ...  Asahi Super Dry   \n",
       "479   clear, a bit darker, golden colour with head t...  Asahi Super Dry   \n",
       "929   just like the says, dry ,very dry at the finis...  Asahi Super Dry   \n",
       "1772  angstrom draught daruma austin. bad. of atomic...  Asahi Super Dry   \n",
       "1417  pitch black in the glass. no head at all. good...   8 Wired iStout   \n",
       "30    light and crispy. bitter and sour at the start...  Asahi Super Dry   \n",
       "915   pale lager which tasted about like i expected....  Asahi Super Dry   \n",
       "407   . clear gold with a frothy white head. watery,...  Asahi Super Dry   \n",
       "\n",
       "     MultinomialNB_label                                           keywords  \n",
       "364             Positive  [favorite asian restaurant, asahi draft dispen...  \n",
       "1642            Positive  [slight creamy tan head, lightly smoked burnt ...  \n",
       "2075            Negative  [weak though medium, feeble carbonation, sweet...  \n",
       "479             Positive  [mostly like earth, moderate bitter aftertaste...  \n",
       "929             Positive  [ok beer clean, japenese steakhouse, extra lar...  \n",
       "1772            Negative  [angstrom draught daruma austin, light cider, ...  \n",
       "1417            Positive  [good roasted malts, smooth brew, pitch black,...  \n",
       "30              Negative  [would go well, metallic tang, macro lagers, s...  \n",
       "915             Negative  [yellow color, pale lager, average beer, turn,...  \n",
       "407             Negative  [would accept one given, little grainand yes, ...  "
      ]
     },
     "execution_count": 11,
     "metadata": {},
     "output_type": "execute_result"
    }
   ],
   "source": [
    "# create a new column 'keywords' to store the rake-extracted keywords\n",
    "df['keywords'] = df['Review'].apply(lambda x: apply_rake(x))\n",
    "\n",
    "# save the result to a new csv file ('reviews_with_keywords.csv')\n",
    "# df.to_csv('reviews_with_keywords.csv', index=False)\n",
    "df.sample(10)"
   ]
  }
 ],
 "metadata": {
  "kernelspec": {
   "display_name": "ml_3.10",
   "language": "python",
   "name": "ml_3.10"
  },
  "language_info": {
   "codemirror_mode": {
    "name": "ipython",
    "version": 3
   },
   "file_extension": ".py",
   "mimetype": "text/x-python",
   "name": "python",
   "nbconvert_exporter": "python",
   "pygments_lexer": "ipython3",
   "version": "3.10.11"
  },
  "orig_nbformat": 4
 },
 "nbformat": 4,
 "nbformat_minor": 2
}
